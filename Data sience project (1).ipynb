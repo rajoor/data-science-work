{
 "cells": [
  {
   "cell_type": "code",
   "execution_count": 3,
   "id": "3f81c722",
   "metadata": {
    "scrolled": true
   },
   "outputs": [
    {
     "name": "stdout",
     "output_type": "stream",
     "text": [
      "Collecting sweetviz\n",
      "  Using cached sweetviz-2.1.3-py3-none-any.whl (15.1 MB)\n",
      "Requirement already satisfied: tqdm>=4.43.0 in c:\\users\\win\\anaconda3\\anacondanew3\\lib\\site-packages (from sweetviz) (4.59.0)\n",
      "Requirement already satisfied: scipy>=1.3.2 in c:\\users\\win\\anaconda3\\anacondanew3\\lib\\site-packages (from sweetviz) (1.6.2)\n",
      "Requirement already satisfied: matplotlib>=3.1.3 in c:\\users\\win\\anaconda3\\anacondanew3\\lib\\site-packages (from sweetviz) (3.3.4)\n",
      "Requirement already satisfied: pandas!=1.0.0,!=1.0.1,!=1.0.2,>=0.25.3 in c:\\users\\win\\anaconda3\\anacondanew3\\lib\\site-packages (from sweetviz) (1.2.4)\n",
      "Collecting importlib-resources>=1.2.0\n",
      "  Downloading importlib_resources-5.4.0-py3-none-any.whl (28 kB)\n",
      "Requirement already satisfied: jinja2>=2.11.1 in c:\\users\\win\\anaconda3\\anacondanew3\\lib\\site-packages (from sweetviz) (2.11.3)\n",
      "Requirement already satisfied: numpy>=1.16.0 in c:\\users\\win\\anaconda3\\anacondanew3\\lib\\site-packages (from sweetviz) (1.19.5)\n",
      "Requirement already satisfied: zipp>=3.1.0 in c:\\users\\win\\anaconda3\\anacondanew3\\lib\\site-packages (from importlib-resources>=1.2.0->sweetviz) (3.4.1)\n",
      "Requirement already satisfied: MarkupSafe>=0.23 in c:\\users\\win\\anaconda3\\anacondanew3\\lib\\site-packages (from jinja2>=2.11.1->sweetviz) (1.1.1)\n",
      "Requirement already satisfied: kiwisolver>=1.0.1 in c:\\users\\win\\anaconda3\\anacondanew3\\lib\\site-packages (from matplotlib>=3.1.3->sweetviz) (1.3.1)\n",
      "Requirement already satisfied: pyparsing!=2.0.4,!=2.1.2,!=2.1.6,>=2.0.3 in c:\\users\\win\\anaconda3\\anacondanew3\\lib\\site-packages (from matplotlib>=3.1.3->sweetviz) (2.4.7)\n",
      "Requirement already satisfied: cycler>=0.10 in c:\\users\\win\\anaconda3\\anacondanew3\\lib\\site-packages (from matplotlib>=3.1.3->sweetviz) (0.10.0)\n",
      "Requirement already satisfied: python-dateutil>=2.1 in c:\\users\\win\\anaconda3\\anacondanew3\\lib\\site-packages (from matplotlib>=3.1.3->sweetviz) (2.8.1)\n",
      "Requirement already satisfied: pillow>=6.2.0 in c:\\users\\win\\anaconda3\\anacondanew3\\lib\\site-packages (from matplotlib>=3.1.3->sweetviz) (8.2.0)\n",
      "Requirement already satisfied: six in c:\\users\\win\\anaconda3\\anacondanew3\\lib\\site-packages (from cycler>=0.10->matplotlib>=3.1.3->sweetviz) (1.15.0)\n",
      "Requirement already satisfied: pytz>=2017.3 in c:\\users\\win\\anaconda3\\anacondanew3\\lib\\site-packages (from pandas!=1.0.0,!=1.0.1,!=1.0.2,>=0.25.3->sweetviz) (2021.1)\n",
      "Installing collected packages: importlib-resources, sweetviz\n",
      "Successfully installed importlib-resources-5.4.0 sweetviz-2.1.3\n"
     ]
    }
   ],
   "source": [
    "#load the libraries\n",
    "!pip install sweetviz \n"
   ]
  },
  {
   "cell_type": "code",
   "execution_count": 32,
   "id": "f5d26822",
   "metadata": {},
   "outputs": [],
   "source": [
    "import pandas as pd\n",
    "import numpy as np\n",
    "import sweetviz as sv\n",
    "import matplotlib.pyplot as plt\n",
    "import seaborn as sns"
   ]
  },
  {
   "cell_type": "code",
   "execution_count": 33,
   "id": "072d35d3",
   "metadata": {},
   "outputs": [],
   "source": [
    "data=pd.read_csv(\"C:/Users/Win/Desktop/DS project/bank.csv\")"
   ]
  },
  {
   "cell_type": "code",
   "execution_count": 34,
   "id": "00ad830e",
   "metadata": {},
   "outputs": [
    {
     "data": {
      "text/html": [
       "<div>\n",
       "<style scoped>\n",
       "    .dataframe tbody tr th:only-of-type {\n",
       "        vertical-align: middle;\n",
       "    }\n",
       "\n",
       "    .dataframe tbody tr th {\n",
       "        vertical-align: top;\n",
       "    }\n",
       "\n",
       "    .dataframe thead th {\n",
       "        text-align: right;\n",
       "    }\n",
       "</style>\n",
       "<table border=\"1\" class=\"dataframe\">\n",
       "  <thead>\n",
       "    <tr style=\"text-align: right;\">\n",
       "      <th></th>\n",
       "      <th>industrial_risk</th>\n",
       "      <th>management_risk</th>\n",
       "      <th>financial_flexibility</th>\n",
       "      <th>credibility</th>\n",
       "      <th>competitiveness</th>\n",
       "      <th>operating_risk</th>\n",
       "      <th>class</th>\n",
       "    </tr>\n",
       "  </thead>\n",
       "  <tbody>\n",
       "    <tr>\n",
       "      <th>0</th>\n",
       "      <td>0.5</td>\n",
       "      <td>1.0</td>\n",
       "      <td>0.0</td>\n",
       "      <td>0.0</td>\n",
       "      <td>0.0</td>\n",
       "      <td>0.5</td>\n",
       "      <td>bankruptcy</td>\n",
       "    </tr>\n",
       "    <tr>\n",
       "      <th>1</th>\n",
       "      <td>0.0</td>\n",
       "      <td>1.0</td>\n",
       "      <td>0.0</td>\n",
       "      <td>0.0</td>\n",
       "      <td>0.0</td>\n",
       "      <td>1.0</td>\n",
       "      <td>bankruptcy</td>\n",
       "    </tr>\n",
       "    <tr>\n",
       "      <th>2</th>\n",
       "      <td>1.0</td>\n",
       "      <td>0.0</td>\n",
       "      <td>0.0</td>\n",
       "      <td>0.0</td>\n",
       "      <td>0.0</td>\n",
       "      <td>1.0</td>\n",
       "      <td>bankruptcy</td>\n",
       "    </tr>\n",
       "    <tr>\n",
       "      <th>3</th>\n",
       "      <td>0.5</td>\n",
       "      <td>0.0</td>\n",
       "      <td>0.0</td>\n",
       "      <td>0.5</td>\n",
       "      <td>0.0</td>\n",
       "      <td>1.0</td>\n",
       "      <td>bankruptcy</td>\n",
       "    </tr>\n",
       "    <tr>\n",
       "      <th>4</th>\n",
       "      <td>1.0</td>\n",
       "      <td>1.0</td>\n",
       "      <td>0.0</td>\n",
       "      <td>0.0</td>\n",
       "      <td>0.0</td>\n",
       "      <td>1.0</td>\n",
       "      <td>bankruptcy</td>\n",
       "    </tr>\n",
       "  </tbody>\n",
       "</table>\n",
       "</div>"
      ],
      "text/plain": [
       "   industrial_risk  management_risk  financial_flexibility  credibility  \\\n",
       "0              0.5              1.0                    0.0          0.0   \n",
       "1              0.0              1.0                    0.0          0.0   \n",
       "2              1.0              0.0                    0.0          0.0   \n",
       "3              0.5              0.0                    0.0          0.5   \n",
       "4              1.0              1.0                    0.0          0.0   \n",
       "\n",
       "   competitiveness  operating_risk       class  \n",
       "0              0.0             0.5  bankruptcy  \n",
       "1              0.0             1.0  bankruptcy  \n",
       "2              0.0             1.0  bankruptcy  \n",
       "3              0.0             1.0  bankruptcy  \n",
       "4              0.0             1.0  bankruptcy  "
      ]
     },
     "execution_count": 34,
     "metadata": {},
     "output_type": "execute_result"
    }
   ],
   "source": [
    "data.head()"
   ]
  },
  {
   "cell_type": "code",
   "execution_count": 35,
   "id": "b86e01e1",
   "metadata": {},
   "outputs": [
    {
     "data": {
      "text/html": [
       "<div>\n",
       "<style scoped>\n",
       "    .dataframe tbody tr th:only-of-type {\n",
       "        vertical-align: middle;\n",
       "    }\n",
       "\n",
       "    .dataframe tbody tr th {\n",
       "        vertical-align: top;\n",
       "    }\n",
       "\n",
       "    .dataframe thead th {\n",
       "        text-align: right;\n",
       "    }\n",
       "</style>\n",
       "<table border=\"1\" class=\"dataframe\">\n",
       "  <thead>\n",
       "    <tr style=\"text-align: right;\">\n",
       "      <th></th>\n",
       "      <th>industrial_risk</th>\n",
       "      <th>management_risk</th>\n",
       "      <th>financial_flexibility</th>\n",
       "      <th>credibility</th>\n",
       "      <th>competitiveness</th>\n",
       "      <th>operating_risk</th>\n",
       "      <th>class</th>\n",
       "    </tr>\n",
       "  </thead>\n",
       "  <tbody>\n",
       "    <tr>\n",
       "      <th>245</th>\n",
       "      <td>0.0</td>\n",
       "      <td>1.0</td>\n",
       "      <td>1.0</td>\n",
       "      <td>1.0</td>\n",
       "      <td>1.0</td>\n",
       "      <td>1.0</td>\n",
       "      <td>non-bankruptcy</td>\n",
       "    </tr>\n",
       "    <tr>\n",
       "      <th>246</th>\n",
       "      <td>1.0</td>\n",
       "      <td>1.0</td>\n",
       "      <td>0.5</td>\n",
       "      <td>1.0</td>\n",
       "      <td>1.0</td>\n",
       "      <td>0.0</td>\n",
       "      <td>non-bankruptcy</td>\n",
       "    </tr>\n",
       "    <tr>\n",
       "      <th>247</th>\n",
       "      <td>0.0</td>\n",
       "      <td>1.0</td>\n",
       "      <td>1.0</td>\n",
       "      <td>0.5</td>\n",
       "      <td>0.5</td>\n",
       "      <td>0.0</td>\n",
       "      <td>non-bankruptcy</td>\n",
       "    </tr>\n",
       "    <tr>\n",
       "      <th>248</th>\n",
       "      <td>1.0</td>\n",
       "      <td>0.0</td>\n",
       "      <td>0.5</td>\n",
       "      <td>1.0</td>\n",
       "      <td>0.5</td>\n",
       "      <td>0.0</td>\n",
       "      <td>non-bankruptcy</td>\n",
       "    </tr>\n",
       "    <tr>\n",
       "      <th>249</th>\n",
       "      <td>1.0</td>\n",
       "      <td>0.0</td>\n",
       "      <td>0.5</td>\n",
       "      <td>0.5</td>\n",
       "      <td>1.0</td>\n",
       "      <td>1.0</td>\n",
       "      <td>non-bankruptcy</td>\n",
       "    </tr>\n",
       "  </tbody>\n",
       "</table>\n",
       "</div>"
      ],
      "text/plain": [
       "     industrial_risk  management_risk  financial_flexibility  credibility  \\\n",
       "245              0.0              1.0                    1.0          1.0   \n",
       "246              1.0              1.0                    0.5          1.0   \n",
       "247              0.0              1.0                    1.0          0.5   \n",
       "248              1.0              0.0                    0.5          1.0   \n",
       "249              1.0              0.0                    0.5          0.5   \n",
       "\n",
       "     competitiveness  operating_risk           class  \n",
       "245              1.0             1.0  non-bankruptcy  \n",
       "246              1.0             0.0  non-bankruptcy  \n",
       "247              0.5             0.0  non-bankruptcy  \n",
       "248              0.5             0.0  non-bankruptcy  \n",
       "249              1.0             1.0  non-bankruptcy  "
      ]
     },
     "execution_count": 35,
     "metadata": {},
     "output_type": "execute_result"
    }
   ],
   "source": [
    "data.tail()"
   ]
  },
  {
   "cell_type": "code",
   "execution_count": 36,
   "id": "eae94a43",
   "metadata": {},
   "outputs": [
    {
     "data": {
      "text/plain": [
       "(250, 7)"
      ]
     },
     "execution_count": 36,
     "metadata": {},
     "output_type": "execute_result"
    }
   ],
   "source": [
    "data.shape"
   ]
  },
  {
   "cell_type": "code",
   "execution_count": 37,
   "id": "6ea74805",
   "metadata": {},
   "outputs": [
    {
     "data": {
      "text/plain": [
       "industrial_risk          float64\n",
       "management_risk          float64\n",
       "financial_flexibility    float64\n",
       "credibility              float64\n",
       "competitiveness          float64\n",
       "operating_risk           float64\n",
       "class                     object\n",
       "dtype: object"
      ]
     },
     "execution_count": 37,
     "metadata": {},
     "output_type": "execute_result"
    }
   ],
   "source": [
    "#data types\n",
    "data.dtypes"
   ]
  },
  {
   "cell_type": "code",
   "execution_count": 38,
   "id": "282444e3",
   "metadata": {},
   "outputs": [
    {
     "name": "stdout",
     "output_type": "stream",
     "text": [
      "<class 'pandas.core.frame.DataFrame'>\n",
      "RangeIndex: 250 entries, 0 to 249\n",
      "Data columns (total 7 columns):\n",
      " #   Column                 Non-Null Count  Dtype  \n",
      "---  ------                 --------------  -----  \n",
      " 0   industrial_risk        250 non-null    float64\n",
      " 1   management_risk        250 non-null    float64\n",
      " 2   financial_flexibility  250 non-null    float64\n",
      " 3   credibility            250 non-null    float64\n",
      " 4   competitiveness        250 non-null    float64\n",
      " 5   operating_risk         250 non-null    float64\n",
      " 6   class                  250 non-null    object \n",
      "dtypes: float64(6), object(1)\n",
      "memory usage: 13.8+ KB\n"
     ]
    }
   ],
   "source": [
    "data.info()"
   ]
  },
  {
   "cell_type": "code",
   "execution_count": 39,
   "id": "0c6d1487",
   "metadata": {},
   "outputs": [
    {
     "data": {
      "text/plain": [
       "industrial_risk          0\n",
       "management_risk          0\n",
       "financial_flexibility    0\n",
       "credibility              0\n",
       "competitiveness          0\n",
       "operating_risk           0\n",
       "class                    0\n",
       "dtype: int64"
      ]
     },
     "execution_count": 39,
     "metadata": {},
     "output_type": "execute_result"
    }
   ],
   "source": [
    "data.isnull().sum()"
   ]
  },
  {
   "cell_type": "code",
   "execution_count": 40,
   "id": "ff61597c",
   "metadata": {},
   "outputs": [
    {
     "data": {
      "text/plain": [
       "<AxesSubplot:>"
      ]
     },
     "execution_count": 40,
     "metadata": {},
     "output_type": "execute_result"
    },
    {
     "data": {
      "image/png": "[encoded data removed]",
      "text/plain": [
       "<Figure size 432x288 with 1 Axes>"
      ]
     },
     "metadata": {
      "needs_background": "light"
     },
     "output_type": "display_data"
    }
   ],
   "source": [
    "data['industrial_risk'].value_counts().plot.bar()"
   ]
  },
  {
   "cell_type": "code",
   "execution_count": 41,
   "id": "055f77e1",
   "metadata": {},
   "outputs": [
    {
     "data": {
      "text/plain": [
       "<AxesSubplot:>"
      ]
     },
     "execution_count": 41,
     "metadata": {},
     "output_type": "execute_result"
    },
    {
     "data": {
      "image/png": "[encoded data removed]",
      "text/plain": [
       "<Figure size 432x288 with 1 Axes>"
      ]
     },
     "metadata": {
      "needs_background": "light"
     },
     "output_type": "display_data"
    }
   ],
   "source": [
    "data['management_risk'].value_counts().plot.bar()"
   ]
  },
  {
   "cell_type": "code",
   "execution_count": 42,
   "id": "042ca822",
   "metadata": {},
   "outputs": [
    {
     "data": {
      "text/plain": [
       "<AxesSubplot:>"
      ]
     },
     "execution_count": 42,
     "metadata": {},
     "output_type": "execute_result"
    },
    {
     "data": {
      "image/png": "[encoded data removed]",
      "text/plain": [
       "<Figure size 432x288 with 1 Axes>"
      ]
     },
     "metadata": {
      "needs_background": "light"
     },
     "output_type": "display_data"
    }
   ],
   "source": [
    "data['financial_flexibility'].value_counts().plot.bar()"
   ]
  },
  {
   "cell_type": "code",
   "execution_count": 43,
   "id": "73a6dad8",
   "metadata": {},
   "outputs": [
    {
     "data": {
      "text/plain": [
       "<AxesSubplot:>"
      ]
     },
     "execution_count": 43,
     "metadata": {},
     "output_type": "execute_result"
    },
    {
     "data": {
      "image/png": "[encoded data removed]",
      "text/plain": [
       "<Figure size 432x288 with 1 Axes>"
      ]
     },
     "metadata": {
      "needs_background": "light"
     },
     "output_type": "display_data"
    }
   ],
   "source": [
    "data['credibility'].value_counts().plot.bar()"
   ]
  },
  {
   "cell_type": "code",
   "execution_count": 44,
   "id": "690fba60",
   "metadata": {},
   "outputs": [
    {
     "data": {
      "text/plain": [
       "<AxesSubplot:>"
      ]
     },
     "execution_count": 44,
     "metadata": {},
     "output_type": "execute_result"
    },
    {
     "data": {
      "image/png": "[encoded data removed]",
      "text/plain": [
       "<Figure size 432x288 with 1 Axes>"
      ]
     },
     "metadata": {
      "needs_background": "light"
     },
     "output_type": "display_data"
    }
   ],
   "source": [
    "data['competitiveness'].value_counts().plot.bar()"
   ]
  },
  {
   "cell_type": "code",
   "execution_count": 45,
   "id": "906bb471",
   "metadata": {},
   "outputs": [
    {
     "data": {
      "text/plain": [
       "<AxesSubplot:>"
      ]
     },
     "execution_count": 45,
     "metadata": {},
     "output_type": "execute_result"
    },
    {
     "data": {
      "image/png": "[encoded data removed]",
      "text/plain": [
       "<Figure size 432x288 with 1 Axes>"
      ]
     },
     "metadata": {
      "needs_background": "light"
     },
     "output_type": "display_data"
    }
   ],
   "source": [
    "data['operating_risk'].value_counts().plot.bar()"
   ]
  },
  {
   "cell_type": "code",
   "execution_count": 46,
   "id": "6b080023",
   "metadata": {},
   "outputs": [
    {
     "data": {
      "text/plain": [
       "<AxesSubplot:>"
      ]
     },
     "execution_count": 46,
     "metadata": {},
     "output_type": "execute_result"
    },
    {
     "data": {
      "image/png": "[encoded data removed]",
      "text/plain": [
       "<Figure size 432x288 with 1 Axes>"
      ]
     },
     "metadata": {
      "needs_background": "light"
     },
     "output_type": "display_data"
    }
   ],
   "source": [
    "data['class'].value_counts().plot.bar()"
   ]
  },
  {
   "cell_type": "code",
   "execution_count": 47,
   "id": "241f1f73",
   "metadata": {},
   "outputs": [
    {
     "data": {
      "text/plain": [
       "<AxesSubplot:>"
      ]
     },
     "execution_count": 47,
     "metadata": {},
     "output_type": "execute_result"
    },
    {
     "data": {
      "image/png": "[encoded data removed]",
      "text/plain": [
       "<Figure size 432x288 with 2 Axes>"
      ]
     },
     "metadata": {
      "needs_background": "light"
     },
     "output_type": "display_data"
    }
   ],
   "source": [
    "#checking missing values using heatmap\n",
    "cols = data.columns \n",
    "colours = ['#000099', '#ffff00']\n",
    "sns.heatmap(data[cols].isnull(),\n",
    "            cmap=sns.color_palette(colours))"
   ]
  },
  {
   "cell_type": "code",
   "execution_count": 48,
   "id": "588d9e05",
   "metadata": {},
   "outputs": [
    {
     "data": {
      "text/html": [
       "<div>\n",
       "<style scoped>\n",
       "    .dataframe tbody tr th:only-of-type {\n",
       "        vertical-align: middle;\n",
       "    }\n",
       "\n",
       "    .dataframe tbody tr th {\n",
       "        vertical-align: top;\n",
       "    }\n",
       "\n",
       "    .dataframe thead th {\n",
       "        text-align: right;\n",
       "    }\n",
       "</style>\n",
       "<table border=\"1\" class=\"dataframe\">\n",
       "  <thead>\n",
       "    <tr style=\"text-align: right;\">\n",
       "      <th></th>\n",
       "      <th>industrial_risk</th>\n",
       "      <th>management_risk</th>\n",
       "      <th>financial_flexibility</th>\n",
       "      <th>credibility</th>\n",
       "      <th>competitiveness</th>\n",
       "      <th>operating_risk</th>\n",
       "      <th>class</th>\n",
       "    </tr>\n",
       "  </thead>\n",
       "  <tbody>\n",
       "  </tbody>\n",
       "</table>\n",
       "</div>"
      ],
      "text/plain": [
       "Empty DataFrame\n",
       "Columns: [industrial_risk, management_risk, financial_flexibility, credibility, competitiveness, operating_risk, class]\n",
       "Index: []"
      ]
     },
     "execution_count": 48,
     "metadata": {},
     "output_type": "execute_result"
    }
   ],
   "source": [
    "data[data.isnull().any(axis=1)].head()"
   ]
  },
  {
   "cell_type": "code",
   "execution_count": 50,
   "id": "0c1651d6",
   "metadata": {},
   "outputs": [],
   "source": [
    "# there is no any missing  values in our data set"
   ]
  },
  {
   "cell_type": "markdown",
   "id": "fc7421eb",
   "metadata": {},
   "source": [
    "# Univariate histogram and Correlation analysis"
   ]
  },
  {
   "cell_type": "code",
   "execution_count": 57,
   "id": "6b274a30",
   "metadata": {},
   "outputs": [
    {
     "data": {
      "image/png": "[encoded data removed]",
      "text/plain": [
       "<Figure size 864x576 with 6 Axes>"
      ]
     },
     "metadata": {
      "needs_background": "light"
     },
     "output_type": "display_data"
    }
   ],
   "source": [
    "# Univariate Histograms\n",
    "from matplotlib import pyplot\n",
    "\n",
    "data.hist(figsize=(12, 8))\n",
    "pyplot.show()"
   ]
  },
  {
   "cell_type": "code",
   "execution_count": 54,
   "id": "e7cd216a",
   "metadata": {},
   "outputs": [
    {
     "data": {
      "text/html": [
       "<div>\n",
       "<style scoped>\n",
       "    .dataframe tbody tr th:only-of-type {\n",
       "        vertical-align: middle;\n",
       "    }\n",
       "\n",
       "    .dataframe tbody tr th {\n",
       "        vertical-align: top;\n",
       "    }\n",
       "\n",
       "    .dataframe thead th {\n",
       "        text-align: right;\n",
       "    }\n",
       "</style>\n",
       "<table border=\"1\" class=\"dataframe\">\n",
       "  <thead>\n",
       "    <tr style=\"text-align: right;\">\n",
       "      <th></th>\n",
       "      <th>industrial_risk</th>\n",
       "      <th>management_risk</th>\n",
       "      <th>financial_flexibility</th>\n",
       "      <th>credibility</th>\n",
       "      <th>competitiveness</th>\n",
       "      <th>operating_risk</th>\n",
       "    </tr>\n",
       "  </thead>\n",
       "  <tbody>\n",
       "    <tr>\n",
       "      <th>industrial_risk</th>\n",
       "      <td>1.000000</td>\n",
       "      <td>0.255127</td>\n",
       "      <td>-0.162624</td>\n",
       "      <td>-0.014438</td>\n",
       "      <td>-0.257814</td>\n",
       "      <td>0.144507</td>\n",
       "    </tr>\n",
       "    <tr>\n",
       "      <th>management_risk</th>\n",
       "      <td>0.255127</td>\n",
       "      <td>1.000000</td>\n",
       "      <td>-0.254845</td>\n",
       "      <td>-0.303341</td>\n",
       "      <td>-0.306568</td>\n",
       "      <td>0.213874</td>\n",
       "    </tr>\n",
       "    <tr>\n",
       "      <th>financial_flexibility</th>\n",
       "      <td>-0.162624</td>\n",
       "      <td>-0.254845</td>\n",
       "      <td>1.000000</td>\n",
       "      <td>0.524951</td>\n",
       "      <td>0.686612</td>\n",
       "      <td>-0.116903</td>\n",
       "    </tr>\n",
       "    <tr>\n",
       "      <th>credibility</th>\n",
       "      <td>-0.014438</td>\n",
       "      <td>-0.303341</td>\n",
       "      <td>0.524951</td>\n",
       "      <td>1.000000</td>\n",
       "      <td>0.675689</td>\n",
       "      <td>-0.288458</td>\n",
       "    </tr>\n",
       "    <tr>\n",
       "      <th>competitiveness</th>\n",
       "      <td>-0.257814</td>\n",
       "      <td>-0.306568</td>\n",
       "      <td>0.686612</td>\n",
       "      <td>0.675689</td>\n",
       "      <td>1.000000</td>\n",
       "      <td>-0.211383</td>\n",
       "    </tr>\n",
       "    <tr>\n",
       "      <th>operating_risk</th>\n",
       "      <td>0.144507</td>\n",
       "      <td>0.213874</td>\n",
       "      <td>-0.116903</td>\n",
       "      <td>-0.288458</td>\n",
       "      <td>-0.211383</td>\n",
       "      <td>1.000000</td>\n",
       "    </tr>\n",
       "  </tbody>\n",
       "</table>\n",
       "</div>"
      ],
      "text/plain": [
       "                       industrial_risk  management_risk  \\\n",
       "industrial_risk               1.000000         0.255127   \n",
       "management_risk               0.255127         1.000000   \n",
       "financial_flexibility        -0.162624        -0.254845   \n",
       "credibility                  -0.014438        -0.303341   \n",
       "competitiveness              -0.257814        -0.306568   \n",
       "operating_risk                0.144507         0.213874   \n",
       "\n",
       "                       financial_flexibility  credibility  competitiveness  \\\n",
       "industrial_risk                    -0.162624    -0.014438        -0.257814   \n",
       "management_risk                    -0.254845    -0.303341        -0.306568   \n",
       "financial_flexibility               1.000000     0.524951         0.686612   \n",
       "credibility                         0.524951     1.000000         0.675689   \n",
       "competitiveness                     0.686612     0.675689         1.000000   \n",
       "operating_risk                     -0.116903    -0.288458        -0.211383   \n",
       "\n",
       "                       operating_risk  \n",
       "industrial_risk              0.144507  \n",
       "management_risk              0.213874  \n",
       "financial_flexibility       -0.116903  \n",
       "credibility                 -0.288458  \n",
       "competitiveness             -0.211383  \n",
       "operating_risk               1.000000  "
      ]
     },
     "execution_count": 54,
     "metadata": {},
     "output_type": "execute_result"
    }
   ],
   "source": [
    "#Correlation\n",
    "\n",
    "correlation=data.corr()\n",
    "correlationlation"
   ]
  },
  {
   "cell_type": "code",
   "execution_count": 56,
   "id": "0be072da",
   "metadata": {},
   "outputs": [
    {
     "data": {
      "text/plain": [
       "<AxesSubplot:>"
      ]
     },
     "execution_count": 56,
     "metadata": {},
     "output_type": "execute_result"
    },
    {
     "data": {
      "image/png": "[encoded data removed]",
      "text/plain": [
       "<Figure size 432x288 with 2 Axes>"
      ]
     },
     "metadata": {
      "needs_background": "light"
     },
     "output_type": "display_data"
    }
   ],
   "source": [
    "sns.heatmap(correlation,xticklabels=correlation.columns, yticklabels=correlation.columns,annot=True)"
   ]
  },
  {
   "cell_type": "markdown",
   "id": "424a429f",
   "metadata": {},
   "source": [
    "# Transformations"
   ]
  },
  {
   "cell_type": "code",
   "execution_count": 53,
   "id": "05500058",
   "metadata": {},
   "outputs": [],
   "source": [
    "#class variable has object type data so we need to convert it into binary data"
   ]
  },
  {
   "cell_type": "code",
   "execution_count": 59,
   "id": "bfd3d9af",
   "metadata": {},
   "outputs": [
    {
     "data": {
      "text/plain": [
       "non-bankruptcy    143\n",
       "bankruptcy        107\n",
       "Name: class, dtype: int64"
      ]
     },
     "execution_count": 59,
     "metadata": {},
     "output_type": "execute_result"
    }
   ],
   "source": [
    "data['class'].value_counts()"
   ]
  },
  {
   "cell_type": "code",
   "execution_count": 60,
   "id": "7439ea29",
   "metadata": {},
   "outputs": [],
   "source": [
    "data['class'] = data['class'].astype(\"category\")"
   ]
  },
  {
   "cell_type": "code",
   "execution_count": 61,
   "id": "4067ca93",
   "metadata": {},
   "outputs": [],
   "source": [
    "# Encoding the categorical columns by using label encoder"
   ]
  },
  {
   "cell_type": "code",
   "execution_count": 62,
   "id": "97e7894c",
   "metadata": {},
   "outputs": [],
   "source": [
    "from sklearn import preprocessing\n",
    "label_encoder = preprocessing.LabelEncoder()"
   ]
  },
  {
   "cell_type": "code",
   "execution_count": 63,
   "id": "8ec73d27",
   "metadata": {},
   "outputs": [],
   "source": [
    "data['class'] = label_encoder.fit_transform(data['class'])\n"
   ]
  },
  {
   "cell_type": "code",
   "execution_count": 64,
   "id": "e34fd951",
   "metadata": {},
   "outputs": [
    {
     "data": {
      "text/plain": [
       "0      0\n",
       "1      0\n",
       "2      0\n",
       "3      0\n",
       "4      0\n",
       "      ..\n",
       "245    1\n",
       "246    1\n",
       "247    1\n",
       "248    1\n",
       "249    1\n",
       "Name: class, Length: 250, dtype: int32"
      ]
     },
     "execution_count": 64,
     "metadata": {},
     "output_type": "execute_result"
    }
   ],
   "source": [
    "data['class']"
   ]
  },
  {
   "cell_type": "code",
   "execution_count": 65,
   "id": "2f7b5596",
   "metadata": {},
   "outputs": [],
   "source": [
    "# let consider bankruptcy=0 and non-bankrupcy=1"
   ]
  },
  {
   "cell_type": "code",
   "execution_count": 66,
   "id": "5e4c5ff5",
   "metadata": {},
   "outputs": [
    {
     "name": "stdout",
     "output_type": "stream",
     "text": [
      "[[1.  0.  0.  0.  0.5]\n",
      " [1.  0.  0.  0.  1. ]\n",
      " [0.  0.  0.  0.  1. ]\n",
      " [0.  0.  0.5 0.  1. ]\n",
      " [1.  0.  0.  0.  1. ]]\n"
     ]
    }
   ],
   "source": [
    "# Rescale data (between x and y)\n",
    "import pandas as pd\n",
    "from numpy import set_printoptions\n",
    "from sklearn.preprocessing import MinMaxScaler\n",
    "array = data.values\n",
    "# separate array into input and output components\n",
    "X = array[:,1:6]\n",
    "Y = array[:,6]\n",
    "\n",
    "scaler = MinMaxScaler()\n",
    "rescaledX = scaler.fit_transform(X)\n",
    "\n",
    "# summarize transformed data\n",
    "set_printoptions(precision=2)\n",
    "print(rescaledX[0:5,:])"
   ]
  },
  {
   "cell_type": "code",
   "execution_count": 67,
   "id": "24b0a4f9",
   "metadata": {},
   "outputs": [
    {
     "data": {
      "text/html": [
       "<div>\n",
       "<style scoped>\n",
       "    .dataframe tbody tr th:only-of-type {\n",
       "        vertical-align: middle;\n",
       "    }\n",
       "\n",
       "    .dataframe tbody tr th {\n",
       "        vertical-align: top;\n",
       "    }\n",
       "\n",
       "    .dataframe thead th {\n",
       "        text-align: right;\n",
       "    }\n",
       "</style>\n",
       "<table border=\"1\" class=\"dataframe\">\n",
       "  <thead>\n",
       "    <tr style=\"text-align: right;\">\n",
       "      <th></th>\n",
       "      <th>industrial_risk</th>\n",
       "      <th>management_risk</th>\n",
       "      <th>financial_flexibility</th>\n",
       "      <th>credibility</th>\n",
       "      <th>competitiveness</th>\n",
       "      <th>operating_risk</th>\n",
       "      <th>class</th>\n",
       "    </tr>\n",
       "  </thead>\n",
       "  <tbody>\n",
       "    <tr>\n",
       "      <th>0</th>\n",
       "      <td>0.5</td>\n",
       "      <td>1.0</td>\n",
       "      <td>0.0</td>\n",
       "      <td>0.0</td>\n",
       "      <td>0.0</td>\n",
       "      <td>0.5</td>\n",
       "      <td>0</td>\n",
       "    </tr>\n",
       "    <tr>\n",
       "      <th>1</th>\n",
       "      <td>0.0</td>\n",
       "      <td>1.0</td>\n",
       "      <td>0.0</td>\n",
       "      <td>0.0</td>\n",
       "      <td>0.0</td>\n",
       "      <td>1.0</td>\n",
       "      <td>0</td>\n",
       "    </tr>\n",
       "    <tr>\n",
       "      <th>2</th>\n",
       "      <td>1.0</td>\n",
       "      <td>0.0</td>\n",
       "      <td>0.0</td>\n",
       "      <td>0.0</td>\n",
       "      <td>0.0</td>\n",
       "      <td>1.0</td>\n",
       "      <td>0</td>\n",
       "    </tr>\n",
       "    <tr>\n",
       "      <th>3</th>\n",
       "      <td>0.5</td>\n",
       "      <td>0.0</td>\n",
       "      <td>0.0</td>\n",
       "      <td>0.5</td>\n",
       "      <td>0.0</td>\n",
       "      <td>1.0</td>\n",
       "      <td>0</td>\n",
       "    </tr>\n",
       "    <tr>\n",
       "      <th>4</th>\n",
       "      <td>1.0</td>\n",
       "      <td>1.0</td>\n",
       "      <td>0.0</td>\n",
       "      <td>0.0</td>\n",
       "      <td>0.0</td>\n",
       "      <td>1.0</td>\n",
       "      <td>0</td>\n",
       "    </tr>\n",
       "    <tr>\n",
       "      <th>...</th>\n",
       "      <td>...</td>\n",
       "      <td>...</td>\n",
       "      <td>...</td>\n",
       "      <td>...</td>\n",
       "      <td>...</td>\n",
       "      <td>...</td>\n",
       "      <td>...</td>\n",
       "    </tr>\n",
       "    <tr>\n",
       "      <th>245</th>\n",
       "      <td>0.0</td>\n",
       "      <td>1.0</td>\n",
       "      <td>1.0</td>\n",
       "      <td>1.0</td>\n",
       "      <td>1.0</td>\n",
       "      <td>1.0</td>\n",
       "      <td>1</td>\n",
       "    </tr>\n",
       "    <tr>\n",
       "      <th>246</th>\n",
       "      <td>1.0</td>\n",
       "      <td>1.0</td>\n",
       "      <td>0.5</td>\n",
       "      <td>1.0</td>\n",
       "      <td>1.0</td>\n",
       "      <td>0.0</td>\n",
       "      <td>1</td>\n",
       "    </tr>\n",
       "    <tr>\n",
       "      <th>247</th>\n",
       "      <td>0.0</td>\n",
       "      <td>1.0</td>\n",
       "      <td>1.0</td>\n",
       "      <td>0.5</td>\n",
       "      <td>0.5</td>\n",
       "      <td>0.0</td>\n",
       "      <td>1</td>\n",
       "    </tr>\n",
       "    <tr>\n",
       "      <th>248</th>\n",
       "      <td>1.0</td>\n",
       "      <td>0.0</td>\n",
       "      <td>0.5</td>\n",
       "      <td>1.0</td>\n",
       "      <td>0.5</td>\n",
       "      <td>0.0</td>\n",
       "      <td>1</td>\n",
       "    </tr>\n",
       "    <tr>\n",
       "      <th>249</th>\n",
       "      <td>1.0</td>\n",
       "      <td>0.0</td>\n",
       "      <td>0.5</td>\n",
       "      <td>0.5</td>\n",
       "      <td>1.0</td>\n",
       "      <td>1.0</td>\n",
       "      <td>1</td>\n",
       "    </tr>\n",
       "  </tbody>\n",
       "</table>\n",
       "<p>250 rows × 7 columns</p>\n",
       "</div>"
      ],
      "text/plain": [
       "     industrial_risk  management_risk  financial_flexibility  credibility  \\\n",
       "0                0.5              1.0                    0.0          0.0   \n",
       "1                0.0              1.0                    0.0          0.0   \n",
       "2                1.0              0.0                    0.0          0.0   \n",
       "3                0.5              0.0                    0.0          0.5   \n",
       "4                1.0              1.0                    0.0          0.0   \n",
       "..               ...              ...                    ...          ...   \n",
       "245              0.0              1.0                    1.0          1.0   \n",
       "246              1.0              1.0                    0.5          1.0   \n",
       "247              0.0              1.0                    1.0          0.5   \n",
       "248              1.0              0.0                    0.5          1.0   \n",
       "249              1.0              0.0                    0.5          0.5   \n",
       "\n",
       "     competitiveness  operating_risk  class  \n",
       "0                0.0             0.5      0  \n",
       "1                0.0             1.0      0  \n",
       "2                0.0             1.0      0  \n",
       "3                0.0             1.0      0  \n",
       "4                0.0             1.0      0  \n",
       "..               ...             ...    ...  \n",
       "245              1.0             1.0      1  \n",
       "246              1.0             0.0      1  \n",
       "247              0.5             0.0      1  \n",
       "248              0.5             0.0      1  \n",
       "249              1.0             1.0      1  \n",
       "\n",
       "[250 rows x 7 columns]"
      ]
     },
     "execution_count": 67,
     "metadata": {},
     "output_type": "execute_result"
    }
   ],
   "source": []
  },
  {
   "cell_type": "markdown",
   "id": "a666d41d",
   "metadata": {},
   "source": [
    "# Data Standardization"
   ]
  },
  {
   "cell_type": "code",
   "execution_count": 69,
   "id": "716bc1ef",
   "metadata": {},
   "outputs": [
    {
     "name": "stdout",
     "output_type": "stream",
     "text": [
      "[[-0.044  0.942 -0.938 -1.133 -1.082 -0.161]\n",
      " [-1.261  0.942 -0.938 -1.133 -1.082  0.991]\n",
      " [ 1.174 -1.498 -0.938 -1.133 -1.082  0.991]\n",
      " [-0.044 -1.498 -0.938  0.072 -1.082  0.991]\n",
      " [ 1.174  0.942 -0.938 -1.133 -1.082  0.991]]\n"
     ]
    }
   ],
   "source": [
    "# Standardize data (0 mean, 1 stdev)\n",
    "from sklearn.preprocessing import StandardScaler\n",
    "array = data.values\n",
    "# separate array into input and output components\n",
    "X = array[:,0:6]\n",
    "Y = array[:,6]\n",
    "\n",
    "scaler = StandardScaler().fit(X)\n",
    "rescaledX = scaler.transform(X)\n",
    "# summarize transformed data\n",
    "set_printoptions(precision=3)\n",
    "print(rescaledX[0:5,:])"
   ]
  },
  {
   "cell_type": "markdown",
   "id": "5b6e704e",
   "metadata": {},
   "source": [
    "# Feature Engineering- Method1"
   ]
  },
  {
   "cell_type": "code",
   "execution_count": 70,
   "id": "7b7ee275",
   "metadata": {},
   "outputs": [
    {
     "data": {
      "text/plain": [
       "array([2, 1, 1, 1, 1, 3])"
      ]
     },
     "execution_count": 70,
     "metadata": {},
     "output_type": "execute_result"
    }
   ],
   "source": [
    "# Feature Extraction with RFE\n",
    "from sklearn.feature_selection import RFE\n",
    "from sklearn.linear_model import LogisticRegression\n",
    "array = data.values\n",
    "X = array[:,0:6]\n",
    "Y = array[:,6]\n",
    "# feature extraction\n",
    "model = LogisticRegression(max_iter=200)\n",
    "\n",
    "\n",
    "rfe = RFE(model, n_features_to_select=4)\n",
    "fit = rfe.fit(X, Y)\n",
    "\n",
    "fit.n_features_\n",
    "fit.support_\n",
    "fit.ranking_\n",
    "\n"
   ]
  },
  {
   "cell_type": "markdown",
   "id": "8cb0f00b",
   "metadata": {},
   "source": [
    "# Feature Engineering- Method2"
   ]
  },
  {
   "cell_type": "code",
   "execution_count": 71,
   "id": "b913360d",
   "metadata": {},
   "outputs": [
    {
     "name": "stdout",
     "output_type": "stream",
     "text": [
      "[0.018 0.031 0.234 0.214 0.48  0.023]\n"
     ]
    }
   ],
   "source": [
    "# Feature Importance with Extra Trees Classifier\n",
    "from sklearn.ensemble import ExtraTreesClassifier\n",
    "\n",
    "array = data.values\n",
    "X = array[:,0:6]\n",
    "Y = array[:,6]\n",
    "\n",
    "# feature extraction\n",
    "model = ExtraTreesClassifier()\n",
    "model.fit(X, Y)\n",
    "\n",
    "print(model.feature_importances_)"
   ]
  },
  {
   "cell_type": "code",
   "execution_count": 72,
   "id": "18af4635",
   "metadata": {},
   "outputs": [
    {
     "data": {
      "application/vnd.jupyter.widget-view+json": {
       "model_id": "84adf0941611463c89d0a61096623ff9",
       "version_major": 2,
       "version_minor": 0
      },
      "text/plain": [
       "                                             |                                             | [  0%]   00:00 ->…"
      ]
     },
     "metadata": {},
     "output_type": "display_data"
    },
    {
     "name": "stdout",
     "output_type": "stream",
     "text": [
      "Report weather_report.html was generated! NOTEBOOK/COLAB USERS: the web browser MAY not pop up, regardless, the report IS saved in your notebook/colab files.\n"
     ]
    }
   ],
   "source": [
    "sweet_report = sv.analyze(data)\n",
    "sweet_report.show_html('weather_report.html')"
   ]
  },
  {
   "cell_type": "code",
   "execution_count": null,
   "id": "1c340e0f",
   "metadata": {},
   "outputs": [],
   "source": []
  }
 ],
 "metadata": {
  "kernelspec": {
   "display_name": "Python 3",
   "language": "python",
   "name": "python3"
  },
  "language_info": {
   "codemirror_mode": {
    "name": "ipython",
    "version": 3
   },
   "file_extension": ".py",
   "mimetype": "text/x-python",
   "name": "python",
   "nbconvert_exporter": "python",
   "pygments_lexer": "ipython3",
   "version": "3.8.8"
  }
 },
 "nbformat": 4,
 "nbformat_minor": 5
}
